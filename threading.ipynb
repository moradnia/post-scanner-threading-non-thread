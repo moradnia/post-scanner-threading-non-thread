{
 "cells": [
  {
   "cell_type": "code",
   "execution_count": 2,
   "metadata": {},
   "outputs": [
    {
     "name": "stdout",
     "output_type": "stream",
     "text": [
      "Enter the host to be scanned : 78.157.57.34\n",
      "Starting scan on host:  78.157.57.34\n",
      "Port 21 is open!\n",
      "Port 80 is open!Port 25 is open!\n",
      "Port 22 is open!\n",
      "\n",
      "Open ports are: [25, 21, 22, 80]\n",
      "Time taken: 231.07679438591003\n"
     ]
    }
   ],
   "source": [
    "# Multithreaded Port Scanner\n",
    "\n",
    "from queue import Queue\n",
    "import socket\n",
    "import threading\n",
    "import time\n",
    "\n",
    "target = input('Enter the host to be scanned : ')\n",
    "print ('Starting scan on host: ', target)\n",
    "queue = Queue()\n",
    "open_ports = []\n",
    "startTime = time.time()\n",
    "\n",
    "\n",
    "def portscan(port):\n",
    "    try:\n",
    "        sock = socket.socket(socket.AF_INET, socket.SOCK_STREAM)\n",
    "        sock.connect((target, port))\n",
    "        return True\n",
    "    except:\n",
    "        return False\n",
    "\n",
    "def get_ports(mode):\n",
    "    if mode == 1:\n",
    "        for port in range(1, 1024):\n",
    "            queue.put(port)\n",
    "    elif mode == 2:\n",
    "        for port in range(1, 49152):\n",
    "            queue.put(port)\n",
    "    elif mode == 3:\n",
    "        ports = [20, 21, 22, 23, 25, 53, 80, 110, 443]\n",
    "        for port in ports:\n",
    "            queue.put(port)\n",
    "    elif mode == 4:\n",
    "        ports = input(\"Enter your ports (seperate by blank):\")\n",
    "        ports = ports.split()\n",
    "        ports = list(map(int, ports))\n",
    "        for port in ports:\n",
    "            queue.put(port)\n",
    "\n",
    "def worker():\n",
    "    while not queue.empty():\n",
    "        port = queue.get()\n",
    "        if portscan(port):\n",
    "            print(\"Port {} is open!\".format(port))\n",
    "            open_ports.append(port)\n",
    "\n",
    "def run_scanner(threads, mode):\n",
    "\n",
    "    get_ports(mode)\n",
    "\n",
    "    thread_list = []\n",
    "\n",
    "    for t in range(threads):\n",
    "        thread = threading.Thread(target=worker)\n",
    "        thread_list.append(thread)\n",
    "\n",
    "    for thread in thread_list:\n",
    "        thread.start()\n",
    "\n",
    "    for thread in thread_list:\n",
    "        thread.join()\n",
    "\n",
    "    print(\"Open ports are:\", open_ports)\n",
    "    \n",
    "\n",
    "\n",
    "run_scanner(100, 1)\n",
    "\n",
    "\n",
    "print('Time taken:', time.time() - startTime)"
   ]
  },
  {
   "cell_type": "code",
   "execution_count": 12,
   "metadata": {},
   "outputs": [
    {
     "name": "stdout",
     "output_type": "stream",
     "text": [
      "Enter the host to be scanned: google.com\n",
      "Starting scan on host:  216.58.214.14\n",
      "Port 80: OPEN\n",
      "Port 443: OPEN\n",
      "Time taken: 152.2982006072998\n"
     ]
    }
   ],
   "source": [
    "from socket import *\n",
    "import time\n",
    "startTime = time.time()\n",
    "\n",
    "if __name__ == '__main__':\n",
    "   target = input('Enter the host to be scanned: ')\n",
    "   t_IP = gethostbyname(target)\n",
    "   print ('Starting scan on host: ', t_IP)\n",
    "   ports = [20, 21, 22, 23, 25, 53, 80, 110, 443]\n",
    "   for i in ports:\n",
    "      s = socket(AF_INET, SOCK_STREAM)\n",
    "      \n",
    "      conn = s.connect_ex((t_IP, i))\n",
    "      if(conn == 0) :\n",
    "         print ('Port %d: OPEN' % (i,))\n",
    "      s.close()\n",
    "print('Time taken:', time.time() - startTime)"
   ]
  },
  {
   "cell_type": "code",
   "execution_count": 21,
   "metadata": {},
   "outputs": [
    {
     "data": {
      "image/png": "[encoded data removed]",
      "text/plain": [
       "<Figure size 432x288 with 1 Axes>"
      ]
     },
     "metadata": {},
     "output_type": "display_data"
    }
   ],
   "source": [
    "# windows and linux localhost with thread\n",
    "import matplotlib.pyplot as plt\n",
    "import numpy as np\n",
    "plt.style.use('ggplot')\n",
    "thread=[10,20,30,40,50,60,70,80,90,100]\n",
    "# windows localhost \n",
    "thread_time=[102.42,51.34,34.27,26.22,21.19,17.28,15.22,13.24,12.16,11.13]\n",
    "# linux localhost\n",
    "thread_time_2=[8.74,5.58,0.25,0.12,0.15,0.17,0.20,0.20,0.18,0.21]\n",
    "# windows local host non thread\n",
    "th_time_nonthread=1021.77\n",
    "plt.plot(thread,thread_time)\n",
    "plt.plot(thread,thread_time_2)\n",
    "\n",
    "plt.fill_between(thread,thread_time,thread_time_2,alpha=0.25)\n",
    "# point non thread on localhost\n",
    "\n",
    "plt.show()"
   ]
  },
  {
   "cell_type": "code",
   "execution_count": 17,
   "metadata": {},
   "outputs": [
    {
     "data": {
      "image/png": "[encoded data removed]",
      "text/plain": [
       "<Figure size 432x288 with 1 Axes>"
      ]
     },
     "metadata": {},
     "output_type": "display_data"
    }
   ],
   "source": [
    "# windows and linux google.com with thread\n",
    "import matplotlib.pyplot as plt\n",
    "import numpy as np\n",
    "plt.style.use('ggplot')\n",
    "thread=[10,20,30,40,50,60,70,80,90,100]\n",
    "# windows google.com \n",
    "th_time=[2163.50,1092.24,735.25,546.29,441.21,336.27,315.26,273.25,252.2,231.17]\n",
    "# linux google.com\n",
    "th_time_2=[2171.01,1100.24,745.36,555.28,470.18,384.98,345.23,302.58,257.60,263.56]\n",
    "\n",
    "\n",
    "plt.plot(thread,th_time)\n",
    "plt.plot(thread,th_time_2)\n",
    "plt.show()"
   ]
  },
  {
   "cell_type": "code",
   "execution_count": 17,
   "metadata": {},
   "outputs": [],
   "source": [
    "# windows and linux non thread local host \n",
    "import matplotlib.pyplot as plt\n",
    "import numpy as np\n",
    "plt.style.use('ggplot')\n",
    "# windows localhost \n",
    "th_time=1021.77\n",
    "# linux localhost\n",
    "thread_time_2=902.45\n",
    "\n",
    "\n"
   ]
  },
  {
   "cell_type": "code",
   "execution_count": 30,
   "metadata": {},
   "outputs": [],
   "source": [
    "# windows and linux non thread google.com\n",
    "import matplotlib.pyplot as plt\n",
    "import numpy as np\n",
    "plt.style.use('ggplot')\n",
    "\n",
    "# windows localhost \n",
    "th_time=15058.95\n",
    "# linux localhost\n",
    "th_time_2=1804.65\n"
   ]
  },
  {
   "cell_type": "code",
   "execution_count": null,
   "metadata": {},
   "outputs": [],
   "source": []
  }
 ],
 "metadata": {
  "kernelspec": {
   "display_name": "Python 3",
   "language": "python",
   "name": "python3"
  },
  "language_info": {
   "codemirror_mode": {
    "name": "ipython",
    "version": 3
   },
   "file_extension": ".py",
   "mimetype": "text/x-python",
   "name": "python",
   "nbconvert_exporter": "python",
   "pygments_lexer": "ipython3",
   "version": "3.8.2"
  }
 },
 "nbformat": 4,
 "nbformat_minor": 4
}
